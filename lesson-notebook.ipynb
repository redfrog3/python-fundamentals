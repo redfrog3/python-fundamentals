{
 "cells": [
  {
   "cell_type": "code",
   "execution_count": 29,
   "id": "45f48947",
   "metadata": {},
   "outputs": [
    {
     "name": "stdout",
     "output_type": "stream",
     "text": [
      "2\n"
     ]
    }
   ],
   "source": [
    "import math\n",
    "\n",
    "\n",
    "seed = 12.4444\n",
    "step1 = seed / 10\n",
    "step2 = step1 - 800\n",
    "step3 = step2 + 180843\n",
    "result = math.floor(step3)\n",
    "limitednumber = step3 - result\n",
    "answer = math.floor(limitednumber * 10)\n",
    "\n",
    "print(answer)\n"
   ]
  },
  {
   "cell_type": "code",
   "execution_count": 180,
   "id": "82c84d3b",
   "metadata": {},
   "outputs": [
    {
     "name": "stdout",
     "output_type": "stream",
     "text": [
      "\n",
      "--- Random Library ---\n",
      "\n",
      "Random integer:  1\n"
     ]
    }
   ],
   "source": [
    "print(\"\\n--- Random Library ---\\n\")\n",
    "\n",
    "\n",
    "from pickle import TRUE\n",
    "import random\n",
    "\n",
    "#methods\n",
    "print(\"Random integer: \", random.randint(1,2))\n",
    "\n"
   ]
  },
  {
   "cell_type": "code",
   "execution_count": 4,
   "id": "12480a41",
   "metadata": {},
   "outputs": [
    {
     "ename": "NameError",
     "evalue": "name 'random' is not defined",
     "output_type": "error",
     "traceback": [
      "\u001b[31m---------------------------------------------------------------------------\u001b[39m",
      "\u001b[31mNameError\u001b[39m                                 Traceback (most recent call last)",
      "\u001b[36mCell\u001b[39m\u001b[36m \u001b[39m\u001b[32mIn[4]\u001b[39m\u001b[32m, line 1\u001b[39m\n\u001b[32m----> \u001b[39m\u001b[32m1\u001b[39m \u001b[38;5;28mprint\u001b[39m(\u001b[33m\"\u001b[39m\u001b[33mRandom integer: \u001b[39m\u001b[33m\"\u001b[39m, \u001b[43mrandom\u001b[49m.randint(\u001b[32m1\u001b[39m, \u001b[32m7\u001b[39m))\n\u001b[32m      2\u001b[39m \u001b[38;5;28mprint\u001b[39m(\u001b[33m\"\u001b[39m\u001b[33mRandom float between 0 and 1: \u001b[39m\u001b[33m\"\u001b[39m, random.random())\n\u001b[32m      4\u001b[39m \u001b[38;5;28mprint\u001b[39m(random.choice([\u001b[33m\"\u001b[39m\u001b[33m1\u001b[39m\u001b[33m\"\u001b[39m,\u001b[33m\"\u001b[39m\u001b[33m2\u001b[39m\u001b[33m\"\u001b[39m,\u001b[33m\"\u001b[39m\u001b[33m3\u001b[39m\u001b[33m\"\u001b[39m,\u001b[33m\"\u001b[39m\u001b[33m4\u001b[39m\u001b[33m\"\u001b[39m,\u001b[33m\"\u001b[39m\u001b[33m5\u001b[39m\u001b[33m\"\u001b[39m]))\n",
      "\u001b[31mNameError\u001b[39m: name 'random' is not defined"
     ]
    }
   ],
   "source": [
    "print(\"Random integer: \", random.randint(1, 7))\n",
    "print(\"Random float between 0 and 1: \", random.random())\n",
    "\n",
    "print(random.choice([\"1\",\"2\",\"3\",\"4\",\"5\"]))"
   ]
  },
  {
   "cell_type": "code",
   "execution_count": null,
   "id": "1d9cc39d",
   "metadata": {},
   "outputs": [
    {
     "name": "stdout",
     "output_type": "stream",
     "text": [
      "483.1204\n"
     ]
    }
   ],
   "source": [
    "# Challenge 1: Circle Area with Math Library\n",
    "# Use two variables \"radius\" and \"circle_area\" to calculate the area of a circle with a diameter of 14. \n",
    "# Formulas: the area of a circle is πr² -- the radius is diameter / 2\n",
    "\n",
    "import math\n",
    "r = (14 / 2)\n",
    "A = r * 3.14\n",
    "Answer = A ** 2\n",
    "print(Answer)\n",
    "\n",
    "\n",
    "\n"
   ]
  },
  {
   "cell_type": "code",
   "execution_count": null,
   "id": "487289ca",
   "metadata": {},
   "outputs": [
    {
     "name": "stdout",
     "output_type": "stream",
     "text": [
      "\n",
      "--- Random Library ---\n",
      "\n",
      "Random integer:  5\n"
     ]
    }
   ],
   "source": [
    "# Challenge 2: Simulate a Die Roll\n",
    "# Use the random library to simulate rolling a six-sided die.\n",
    "# The output should be a random integer between 1 and 6.\n",
    "# Store the result in a variable called \"die_roll\" and print it.\n",
    "\n",
    "print(\"\\n--- Random Library ---\\n\")\n",
    "\n",
    "import random\n",
    "\n",
    "print(\"Random integer: \", random.randint(1,6))\n",
    "\n"
   ]
  }
 ],
 "metadata": {
  "kernelspec": {
   "display_name": ".venv",
   "language": "python",
   "name": "python3"
  },
  "language_info": {
   "codemirror_mode": {
    "name": "ipython",
    "version": 3
   },
   "file_extension": ".py",
   "mimetype": "text/x-python",
   "name": "python",
   "nbconvert_exporter": "python",
   "pygments_lexer": "ipython3",
   "version": "3.12.1"
  }
 },
 "nbformat": 4,
 "nbformat_minor": 5
}
