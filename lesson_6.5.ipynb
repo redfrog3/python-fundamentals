{
 "cells": [
  {
   "cell_type": "code",
   "execution_count": 17,
   "id": "fd684349",
   "metadata": {},
   "outputs": [],
   "source": [
    "sentace = \"your a goofy goober\"\n",
    "new_sentace = sentace.replace(\"your\", \"I'm\")\n"
   ]
  },
  {
   "cell_type": "code",
   "execution_count": 18,
   "id": "830cb3f6",
   "metadata": {},
   "outputs": [
    {
     "name": "stdout",
     "output_type": "stream",
     "text": [
      "I'm a goofy goober\n",
      "You're a goofy goober\n",
      "I'm a goober goober\n"
     ]
    }
   ],
   "source": [
    "#Find and replace text\n",
    "sentence = \"I'm a goofy goober\"\n",
    "new_sentence = sentence.replace(\"I'm\", \"You're\")\n",
    "next_replacement = sentence.replace(\"goofy\", \"goober\")\n",
    "print(sentence)\n",
    "print(new_sentence)\n",
    "print(next_replacement)"
   ]
  },
  {
   "cell_type": "code",
   "execution_count": 21,
   "id": "1e842d38",
   "metadata": {},
   "outputs": [
    {
     "name": "stdout",
     "output_type": "stream",
     "text": [
      "\n",
      "--- Formatted Strings ---\n",
      "Hello, my name is Big dawg da absalut G.\n",
      "I am 5 years old \n",
      "and I live in dubai.\n"
     ]
    }
   ],
   "source": [
    "# FORMATTED STRINGS IN PYTHON\n",
    "# f-strings allow variables and expressions inside strings\n",
    "\n",
    "print(\"\\n--- Formatted Strings ---\")\n",
    "\n",
    "name = \"Big dawg da absalut G\"\n",
    "age = 5\n",
    "city = \"dubai\"\n",
    "\n",
    "print(f\"Hello, my name is {name}.\\nI am {age} years old \\nand I live in {city}.\")\n"
   ]
  },
  {
   "cell_type": "code",
   "execution_count": null,
   "id": "27b3c844",
   "metadata": {},
   "outputs": [
    {
     "name": "stdout",
     "output_type": "stream",
     "text": [
      "Nexter year, i,ll be 6. My name in uppercase is BIG DAWG DA ABSALUT G\n"
     ]
    }
   ],
   "source": [
    "# f-strings can do math and function calls inside {}\n",
    "\n",
    "print(f\"Next year, i,ll be {age + 1}. My name in uppercase is {name.upper()}\")"
   ]
  },
  {
   "cell_type": "code",
   "execution_count": 38,
   "id": "ca10b4b0",
   "metadata": {},
   "outputs": [
    {
     "name": "stdout",
     "output_type": "stream",
     "text": [
      "your quote is 5 letters long\n"
     ]
    }
   ],
   "source": [
    "quote = input(\"Enter your favorate quote to find how many letters long it is: \")\n",
    "quote_length = len(quote)\n",
    "print(f\"your quote is {quote_length} letters long\")\n"
   ]
  },
  {
   "cell_type": "code",
   "execution_count": 41,
   "id": "8c142ddb",
   "metadata": {},
   "outputs": [
    {
     "name": "stdout",
     "output_type": "stream",
     "text": [
      "hello grayson, woodell! I know where you live and your bank account!\n"
     ]
    }
   ],
   "source": [
    "fn = input(\"Enter your first: \")\n",
    "ln = input(\"Enter your last name:\")\n",
    "name = (f\"{fn}, {ln}\")\n",
    "print(f\"hello {name}! I know where you live and your bank account!\")\n",
    "\n"
   ]
  },
  {
   "cell_type": "code",
   "execution_count": 36,
   "id": "52e38dbc",
   "metadata": {},
   "outputs": [
    {
     "name": "stdout",
     "output_type": "stream",
     "text": [
      "OLLEH\n"
     ]
    }
   ],
   "source": [
    "word = input(\"enter a word: \")\n",
    "reversed_word = word[::-1]\n",
    "ruw = reversed_word.upper()\n",
    "print(ruw)"
   ]
  }
 ],
 "metadata": {
  "kernelspec": {
   "display_name": ".venv",
   "language": "python",
   "name": "python3"
  },
  "language_info": {
   "codemirror_mode": {
    "name": "ipython",
    "version": 3
   },
   "file_extension": ".py",
   "mimetype": "text/x-python",
   "name": "python",
   "nbconvert_exporter": "python",
   "pygments_lexer": "ipython3",
   "version": "3.12.1"
  }
 },
 "nbformat": 4,
 "nbformat_minor": 5
}
