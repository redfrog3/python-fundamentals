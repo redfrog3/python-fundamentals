{
 "cells": [
  {
   "cell_type": "code",
   "execution_count": 33,
   "id": "e028cdc0",
   "metadata": {},
   "outputs": [
    {
     "name": "stdout",
     "output_type": "stream",
     "text": [
      "\n",
      "--- User Input Demonstration ---\n",
      "Grayson\n"
     ]
    }
   ],
   "source": [
    "print(\"\\n--- User Input Demonstration ---\")\n",
    "\n",
    "name = input(\"Enter your name: \")\n",
    "print(name)"
   ]
  },
  {
   "cell_type": "code",
   "execution_count": 34,
   "id": "613f55b0",
   "metadata": {},
   "outputs": [
    {
     "name": "stdout",
     "output_type": "stream",
     "text": [
      "your age is:  14\n"
     ]
    }
   ],
   "source": [
    "age = input(\"Enter your age: \",)\n",
    "print(\"your age is: \", age)"
   ]
  },
  {
   "cell_type": "code",
   "execution_count": 35,
   "id": "c1f2972d",
   "metadata": {},
   "outputs": [
    {
     "name": "stdout",
     "output_type": "stream",
     "text": [
      "Next year, you will be:  15\n"
     ]
    }
   ],
   "source": [
    "age_number = int(age)\n",
    "print(\"Next year, you will be: \", age_number + 1)\n"
   ]
  },
  {
   "cell_type": "code",
   "execution_count": null,
   "id": "75f7ff54",
   "metadata": {},
   "outputs": [
    {
     "name": "stdout",
     "output_type": "stream",
     "text": [
      "You are 224.73754 meters tall.\n"
     ]
    }
   ],
   "source": [
    "# Example with float input\n",
    "height = float(input(\"Enter your height in meters: \"))\n",
    "print(\"You are\", height, \"meters tall.\")"
   ]
  },
  {
   "cell_type": "code",
   "execution_count": 23,
   "id": "9bda89d1",
   "metadata": {},
   "outputs": [
    {
     "name": "stdout",
     "output_type": "stream",
     "text": [
      "The color blue is a fantastic color!\n"
     ]
    }
   ],
   "source": [
    "\n",
    "# Ask the user for their favorite color and print out a message using it.\n",
    "\n",
    "Color = input(\"Enter you favorate color\")\n",
    "print(\"The color\", Color, \"is a fantastic color!\")\n"
   ]
  },
  {
   "cell_type": "code",
   "execution_count": 38,
   "id": "b10ac23c",
   "metadata": {},
   "outputs": [
    {
     "name": "stdout",
     "output_type": "stream",
     "text": [
      "Your numbers added:  55\n"
     ]
    }
   ],
   "source": [
    "# Challenge 2: Adding Two Numbers\n",
    "# Ask the user for two numbers, add them together, and print the result.\n",
    "\n",
    "import math\n",
    "Numbers = input(\"enter a single number\")\n",
    "Number = input(\"enter another number\")\n",
    "print(\"Your numbers added: \", Numbers + Number)"
   ]
  },
  {
   "cell_type": "code",
   "execution_count": 42,
   "id": "0c4e664e",
   "metadata": {},
   "outputs": [
    {
     "name": "stdout",
     "output_type": "stream",
     "text": [
      "The area of a circle with the diameter of 5.0 is 19.625\n"
     ]
    }
   ],
   "source": [
    "# Challenge 3: Circle Area from User Input\n",
    "# Ask the user for the diameter of a circle, then calculate and print the area.\n",
    "# Refer to lesson 3 or 4.\n",
    "\n",
    "import math\n",
    "\n",
    "Rad = float(input(\"Enter the diameter of a circle to find the area\"))\n",
    "Area = 3.14 * ((Rad / 2) ** 2) \n",
    "print(\"The area of a circle with the diameter of\", Rad ,\"is\",Area)"
   ]
  },
  {
   "cell_type": "code",
   "execution_count": 43,
   "id": "3276e178",
   "metadata": {},
   "outputs": [
    {
     "ename": "SyntaxError",
     "evalue": "invalid syntax. Perhaps you forgot a comma? (513158639.py, line 8)",
     "output_type": "error",
     "traceback": [
      "  \u001b[36mCell\u001b[39m\u001b[36m \u001b[39m\u001b[32mIn[43]\u001b[39m\u001b[32m, line 8\u001b[39m\n\u001b[31m    \u001b[39m\u001b[31mprint(\"your rolled\" roll)\u001b[39m\n          ^\n\u001b[31mSyntaxError\u001b[39m\u001b[31m:\u001b[39m invalid syntax. Perhaps you forgot a comma?\n"
     ]
    }
   ],
   "source": [
    "# Challenge: Custom Die Roll\n",
    "# Ask the user to enter how many sides the die should have.\n",
    "# Then simulate rolling the die once and print the result.\n",
    "import random\n",
    "\n",
    "Sides = int(input(\"How many sides would you like you die to have?\"))\n",
    "roll = random.radiant(1, sides)\n",
    "print(\"your rolled\" roll)\n",
    "\n"
   ]
  }
 ],
 "metadata": {
  "kernelspec": {
   "display_name": ".venv",
   "language": "python",
   "name": "python3"
  },
  "language_info": {
   "codemirror_mode": {
    "name": "ipython",
    "version": 3
   },
   "file_extension": ".py",
   "mimetype": "text/x-python",
   "name": "python",
   "nbconvert_exporter": "python",
   "pygments_lexer": "ipython3",
   "version": "3.12.1"
  }
 },
 "nbformat": 4,
 "nbformat_minor": 5
}
